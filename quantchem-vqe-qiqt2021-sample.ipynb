{
 "cells": [
  {
   "cell_type": "markdown",
   "id": "89e7cffe",
   "metadata": {},
   "source": [
    "## Quantum chemistry simulation using the Variational Quantum Eigensolver "
   ]
  },
  {
   "cell_type": "markdown",
   "id": "4e445013",
   "metadata": {},
   "source": [
    "Note that I needed to install a minor version of h5py (PySCF does not support h5py >= 3)\n",
    "\n",
    "pip install h5py==2.10.0 qiskit qiskit-nature pyscf"
   ]
  },
  {
   "cell_type": "markdown",
   "id": "9b4cfd14",
   "metadata": {},
   "source": [
    "### 1. Basic VQE calculation"
   ]
  },
  {
   "cell_type": "markdown",
   "id": "f7dfb4c6",
   "metadata": {},
   "source": [
    "Import the basic libraries"
   ]
  },
  {
   "cell_type": "code",
   "execution_count": null,
   "id": "18ba7a77",
   "metadata": {},
   "outputs": [],
   "source": [
    "import numpy as np\n",
    "# Import standard Qiskit libraries\n",
    "from qiskit import QuantumCircuit, transpile, Aer, IBMQ\n",
    "from qiskit.providers.aer import StatevectorSimulator\n",
    "from qiskit.utils import QuantumInstance\n",
    "from qiskit.tools.jupyter import *\n",
    "from qiskit.visualization import *\n",
    "from qiskit.providers.ibmq import least_busy"
   ]
  },
  {
   "cell_type": "markdown",
   "id": "ef654aca",
   "metadata": {},
   "source": [
    "Import the Qiskit Nature libraries for quantum chemistry simulation"
   ]
  },
  {
   "cell_type": "code",
   "execution_count": null,
   "id": "887929ae",
   "metadata": {},
   "outputs": [],
   "source": [
    "# Import Qiskit libraries for VQE\n",
    "from qiskit.algorithms import NumPyMinimumEigensolver, VQE\n",
    "from qiskit.algorithms.optimizers import COBYLA, SLSQP, L_BFGS_B, SPSA\n",
    "# Import Qiskit Nature libraries\n",
    "from qiskit_nature.drivers import PySCFDriver, UnitsType, Molecule\n",
    "from qiskit_nature.problems.second_quantization.electronic import ElectronicStructureProblem\n",
    "from qiskit_nature.converters.second_quantization import QubitConverter\n",
    "from qiskit_nature.mappers.second_quantization import JordanWignerMapper, ParityMapper\n",
    "from qiskit_nature.transformers import ActiveSpaceTransformer\n",
    "from qiskit_nature.algorithms import VQEUCCFactory, GroundStateEigensolver\n",
    "from qiskit_nature.circuit.library import HartreeFock, UCCSD, PUCCD"
   ]
  },
  {
   "cell_type": "markdown",
   "id": "e11adbf8",
   "metadata": {},
   "source": [
    "Setup the molecular data for simulation\n",
    "Note that this step requires an external program (this example uses the PySCF program) for Hartree-Fock and integral calculations\n",
    "\n",
    "Some typical input parameters for quantum chemistry simulation\n",
    "(Note that the conventions differ among programs used)\n",
    "1. Cartesian coordinates with atomic labels (Positions of the nuclei)\n",
    "2. Charge (-1: anion, +1: cation, 0: neutral molecule)\n",
    "3. Multiplicity (1:singlet, 2:doublet, 3:triplet, .....)\n",
    "4. Basis set (sto-3g), minao, 6-31g, cc-pvdz, ....)"
   ]
  },
  {
   "cell_type": "code",
   "execution_count": null,
   "id": "360a3dd5",
   "metadata": {},
   "outputs": [],
   "source": [
    "# Setup the molecule\n",
    "molecule = Molecule(geometry=[['H', [0., 0., 0.]],\n",
    "                              ['H', [0., 0., 0.735]]],\n",
    "                     charge=0, multiplicity=1)\n",
    "# Initiate the PySCF driver (for setup of quantum chemical calculations and Hartee-Fock calculation)\n",
    "driver = PySCFDriver(molecule = molecule, unit=UnitsType.ANGSTROM, basis='sto-3g')"
   ]
  },
  {
   "cell_type": "markdown",
   "id": "b7db7443",
   "metadata": {},
   "source": [
    "Perform the calculation using PySCF and construct the second quantizied Hamiltonian"
   ]
  },
  {
   "cell_type": "code",
   "execution_count": null,
   "id": "8a62d6d1",
   "metadata": {},
   "outputs": [],
   "source": [
    "# Perform the setup calculation using PySCF and retrieve data from the calculations\n",
    "es_problem = ElectronicStructureProblem(driver)\n",
    "# Get the second quantized Hamiltonian\n",
    "second_q_op = es_problem.second_q_ops()\n",
    "print(second_q_op[0])"
   ]
  },
  {
   "cell_type": "markdown",
   "id": "61004128",
   "metadata": {},
   "source": [
    "Transform the Hamiltonian into qubitized form (Jordan-Wigner mapping)"
   ]
  },
  {
   "cell_type": "code",
   "execution_count": null,
   "id": "4b98ab64",
   "metadata": {},
   "outputs": [],
   "source": [
    "qubit_converter = QubitConverter(mapper=JordanWignerMapper())\n",
    "qubit_op = qubit_converter.convert(second_q_op[0])\n",
    "print(qubit_op)"
   ]
  },
  {
   "cell_type": "markdown",
   "id": "e3c9ce94",
   "metadata": {},
   "source": [
    "Comparison with two-qubit reduction (Parity mapping)"
   ]
  },
  {
   "cell_type": "code",
   "execution_count": null,
   "id": "83816512",
   "metadata": {},
   "outputs": [],
   "source": [
    "qubit_converter2 = QubitConverter(mapper = ParityMapper(), two_qubit_reduction=True)\n",
    "qubit_op2 = qubit_converter2.convert(second_q_op[0], num_particles=es_problem.num_particles)\n",
    "print(qubit_op2)"
   ]
  },
  {
   "cell_type": "markdown",
   "id": "a40bff22",
   "metadata": {},
   "source": [
    "Set the solver for the reference value"
   ]
  },
  {
   "cell_type": "code",
   "execution_count": null,
   "id": "26d00538",
   "metadata": {},
   "outputs": [],
   "source": [
    "# Set the solver for the exact value\n",
    "numpy_solver = NumPyMinimumEigensolver()"
   ]
  },
  {
   "cell_type": "markdown",
   "id": "db9cbca3",
   "metadata": {},
   "source": [
    "Perform reference calculation"
   ]
  },
  {
   "cell_type": "code",
   "execution_count": null,
   "id": "aca06946",
   "metadata": {},
   "outputs": [],
   "source": [
    "calc = GroundStateEigensolver(qubit_converter, numpy_solver)\n",
    "res = calc.solve(es_problem)\n",
    "print(res)"
   ]
  },
  {
   "cell_type": "markdown",
   "id": "0967b093",
   "metadata": {},
   "source": [
    "Setup for the VQE calculation"
   ]
  },
  {
   "cell_type": "code",
   "execution_count": null,
   "id": "ff09bd09",
   "metadata": {},
   "outputs": [],
   "source": [
    "# Set the optimizer (COBYLA, L_BFGS_B (L-BFGS-B), and etc.)  \n",
    "# See https://github.com/Qiskit/qiskit-terra/tree/main/qiskit/algorithms/optimizers\n",
    "optimizer = SLSQP(maxiter=100) \n",
    "\n",
    "# Set number of spin-orbitals (If you change the basis set, you may need to change this parameter as well)\n",
    "num_spin_orbitals=4\n",
    "# Set the number of particles\n",
    "num_particles=(1,1)\n",
    "\n",
    "# Set the initial state as the Hartree-Fock state | 1100 > or | 01 01 > in Qiskit convention\n",
    "initial_state = HartreeFock(num_spin_orbitals, num_particles, qubit_converter)\n",
    "\n",
    "# Set the UCCSD ansatz\n",
    "ansatz = UCCSD(qubit_converter,num_particles,num_spin_orbitals,initial_state=initial_state,)\n",
    "\n",
    "# Set the VQE solver\n",
    "vqe_solver = VQE(ansatz=ansatz,optimizer=optimizer,\n",
    "            quantum_instance=QuantumInstance(backend=Aer.get_backend(\"statevector_simulator\")),)"
   ]
  },
  {
   "cell_type": "markdown",
   "id": "550688e0",
   "metadata": {},
   "source": [
    "Perform the VQE calculation using Ground state eigensolver"
   ]
  },
  {
   "cell_type": "code",
   "execution_count": null,
   "id": "0baf878f",
   "metadata": {},
   "outputs": [],
   "source": [
    "from qiskit_nature.algorithms import GroundStateEigensolver\n",
    "# Perform the VQE calculation using the Ground state eigensolver\n",
    "calc = GroundStateEigensolver(qubit_converter, vqe_solver)\n",
    "res = calc.solve(es_problem)\n",
    "print(res)"
   ]
  },
  {
   "cell_type": "markdown",
   "id": "50833127",
   "metadata": {},
   "source": [
    "### 2. Construct a potential energy curve"
   ]
  },
  {
   "cell_type": "markdown",
   "id": "37246e1d",
   "metadata": {},
   "source": [
    "Calculate the molecular energy while elongating the H-H bond length."
   ]
  },
  {
   "cell_type": "code",
   "execution_count": null,
   "id": "e13983d1",
   "metadata": {},
   "outputs": [],
   "source": [
    "h2_length = np.arange(0.5, 2.5, 0.1)\n",
    "hf_energy_list=[]\n",
    "uccsd_energy_list=[]\n",
    "for bond_length in h2_length:\n",
    "    # This is simpler than the above example\n",
    "    molecule = Molecule(geometry=[['H', [0., 0., 0.]],\n",
    "                                  ['H', [0., 0., bond_length]]],\n",
    "                         charge=0, multiplicity=1)\n",
    "    driver = PySCFDriver(molecule = molecule, unit=UnitsType.ANGSTROM, basis='sto6g')\n",
    "    es_problem = ElectronicStructureProblem(driver)\n",
    "    qubit_converter = QubitConverter(mapper = ParityMapper(), two_qubit_reduction=True)\n",
    "    quantum_instance = QuantumInstance(backend = Aer.get_backend('statevector_simulator'))\n",
    "    vqe_solver = VQEUCCFactory(quantum_instance)\n",
    "    calc = GroundStateEigensolver(qubit_converter, vqe_solver)\n",
    "    res = calc.solve(es_problem)\n",
    "    hf_energy_list += [res.hartree_fock_energy] \n",
    "    uccsd_energy_list += [res.total_energies[0]] "
   ]
  },
  {
   "cell_type": "markdown",
   "id": "5aafe33a",
   "metadata": {},
   "source": [
    "Plot the energies (Confirm that UCCSD will converge at the dissociation limit, while Hartree-Fock does not)"
   ]
  },
  {
   "cell_type": "code",
   "execution_count": null,
   "id": "d33609d6",
   "metadata": {},
   "outputs": [],
   "source": [
    "import matplotlib.pyplot as plt\n",
    "%matplotlib inline\n",
    "\n",
    "plt.plot(h2_length,hf_energy_list,color='black',label='HF')\n",
    "plt.plot(h2_length,uccsd_energy_list,color='red',label='UCCSD')\n",
    "plt.title(\"Potential energy curve of hydrogen molecule\")\n",
    "plt.xlabel(\"H-H bond length\")\n",
    "plt.ylabel(\"Energy (hartrees)\")\n",
    "plt.legend()"
   ]
  },
  {
   "cell_type": "markdown",
   "id": "41741072",
   "metadata": {},
   "source": [
    "### 3. Reduce the problem size"
   ]
  },
  {
   "cell_type": "markdown",
   "id": "e77f0b94",
   "metadata": {},
   "source": [
    "### Reference (Full size problem (Takes about 5-10 minutes))"
   ]
  },
  {
   "cell_type": "code",
   "execution_count": null,
   "id": "b60d9f18",
   "metadata": {},
   "outputs": [],
   "source": [
    "# define molecule\n",
    "molecule = Molecule(geometry=[['Li', [0., 0., 0.]],\n",
    "                              ['H',  [0., 0., 2.5]]],\n",
    "                        charge=0, \n",
    "                        multiplicity=1)\n",
    "\n",
    "# specify driver\n",
    "driver = PySCFDriver(molecule=molecule, unit=UnitsType.ANGSTROM, basis='sto3g')\n",
    "\n",
    "# define electronic structure problem\n",
    "problem = ElectronicStructureProblem(driver)\n",
    "\n",
    "# construct qubit converter (Jordan-Wigner)\n",
    "qubit_converter = QubitConverter(mapper=JordanWignerMapper())\n",
    "\n",
    "# Set the optimizer (COBYLA, L_BFGS_B (L-BFGS-B), and etc.)  \n",
    "# See https://github.com/Qiskit/qiskit-terra/tree/main/qiskit/algorithms/optimizers\n",
    "optimizer = SLSQP(maxiter=100) \n",
    "\n",
    "# Set number of spin-orbitals\n",
    "num_spin_orbitals=12\n",
    "# Set the number of particles\n",
    "num_particles=(2,2)\n",
    "\n",
    "# Set the initial state as the Hartree-Fock state | 1100 > or | 01 01 > in Qiskit convention\n",
    "initial_state = HartreeFock(num_spin_orbitals, num_particles, qubit_converter)\n",
    "\n",
    "# Set the UCCSD ansatz\n",
    "ansatz = UCCSD(qubit_converter=qubit_converter,num_particles=num_particles,num_spin_orbitals=num_spin_orbitals,initial_state=initial_state,)\n",
    "\n",
    "# Set the VQE solver\n",
    "vqe_solver = VQE(ansatz=ansatz,optimizer=optimizer,\n",
    "            quantum_instance=QuantumInstance(backend=Aer.get_backend(\"statevector_simulator\")),)\n",
    "\n",
    "calc = GroundStateEigensolver(qubit_converter, vqe_solver)\n",
    "res_UCCSD = calc.solve(problem)\n",
    "lih_uccsd_energy= res_UCCSD.total_energies[0]\n",
    "lih_hf_energy = res_UCCSD.hartree_fock_energy\n",
    "print('LiH HF energy = ', lih_hf_energy)\n",
    "print('LiH UCCSD energy = ', lih_uccsd_energy)"
   ]
  },
  {
   "cell_type": "markdown",
   "id": "7c860f2d",
   "metadata": {},
   "source": [
    "Calculate the reference energy"
   ]
  },
  {
   "cell_type": "code",
   "execution_count": null,
   "id": "3f706d08",
   "metadata": {},
   "outputs": [],
   "source": [
    "np_solver = NumPyMinimumEigensolver()\n",
    "np_groundstate_solver = GroundStateEigensolver(qubit_converter, np_solver)\n",
    "\n",
    "np_result = np_groundstate_solver.solve(problem)\n",
    "\n",
    "target_energy = np.real(np_result.eigenenergies + np_result.nuclear_repulsion_energy)[0]\n",
    "print('LiH exact energy:', target_energy)"
   ]
  },
  {
   "cell_type": "markdown",
   "id": "f47ea41e",
   "metadata": {},
   "source": [
    "### Change the ansatz"
   ]
  },
  {
   "cell_type": "code",
   "execution_count": null,
   "id": "811cc526",
   "metadata": {},
   "outputs": [],
   "source": [
    "# define electronic structure problem\n",
    "problem = ElectronicStructureProblem(driver)\n",
    "\n",
    "# construct qubit converter (Jordan-Wigner)\n",
    "qubit_converter = QubitConverter(mapper=JordanWignerMapper())\n",
    "\n",
    "# Set the optimizer (COBYLA, L_BFGS_B (L-BFGS-B), and etc.)  \n",
    "# See https://github.com/Qiskit/qiskit-terra/tree/main/qiskit/algorithms/optimizers\n",
    "optimizer = SLSQP(maxiter=100) \n",
    "\n",
    "# Set number of spin-orbitals\n",
    "num_spin_orbitals=12\n",
    "# Set the number of particles\n",
    "num_particles=(2,2)\n",
    "\n",
    "# Set the initial state as the Hartree-Fock state | 1100 > or | 01 01 > in Qiskit convention\n",
    "initial_state = HartreeFock(num_spin_orbitals, num_particles, qubit_converter)\n",
    "\n",
    "# Set the PUCCD ansatz (You can also try changing PUCCD to SUCCD)\n",
    "ansatz = PUCCD(qubit_converter=qubit_converter,num_particles=num_particles,num_spin_orbitals=num_spin_orbitals,initial_state=initial_state,)\n",
    "\n",
    "# Set the VQE solver\n",
    "vqe_solver = VQE(ansatz=ansatz,optimizer=optimizer,\n",
    "            quantum_instance=QuantumInstance(backend=Aer.get_backend(\"statevector_simulator\")),)\n",
    "\n",
    "calc = GroundStateEigensolver(qubit_converter, vqe_solver)\n",
    "res_PUCCD = calc.solve(problem)\n",
    "lih_puccd_energy= res_PUCCD.total_energies[0]\n",
    "print('LiH PUCCD energy = ', lih_puccd_energy)"
   ]
  },
  {
   "cell_type": "markdown",
   "id": "c7e9e0fd",
   "metadata": {},
   "source": [
    "### Reduce the active space"
   ]
  },
  {
   "cell_type": "code",
   "execution_count": null,
   "id": "c34d7c12",
   "metadata": {},
   "outputs": [],
   "source": [
    "# Run PySCF to get the parameters for the molecule\n",
    "q_molecule = driver.run()\n",
    "    \n",
    "# Specify active space transformation (You can also try changing the number of orbitals)\n",
    "active_space_trafo = ActiveSpaceTransformer(num_electrons=(q_molecule.num_alpha, q_molecule.num_beta),\n",
    "                                            num_molecular_orbitals=3)\n",
    "    \n",
    "# define electronic structure problem\n",
    "problem = ElectronicStructureProblem(driver, q_molecule_transformers=[active_space_trafo])\n",
    "\n",
    "# construct qubit converter (parity mapping + 2-qubit reduction)\n",
    "qubit_converter = QubitConverter(mapper=JordanWignerMapper())\n",
    "\n",
    "# If you change num_molecular_orbitals, set num_spin_orbitals = num_molecular_orbitals*2 \n",
    "num_spin_orbitals = 6\n",
    "num_particles=(2,2)\n",
    "\n",
    "# Set the initial state as the Hartree-Fock state | 1100 > or | 01 01 > in Qiskit convention\n",
    "initial_state = HartreeFock(num_spin_orbitals, num_particles, qubit_converter)\n",
    "\n",
    "# Set the UCCSD ansatz\n",
    "ansatz = UCCSD(qubit_converter=qubit_converter,num_particles=num_particles,num_spin_orbitals=num_spin_orbitals,initial_state=initial_state,)\n",
    "\n",
    "# Set the VQE solver\n",
    "vqe_solver = VQE(ansatz=ansatz,optimizer=optimizer,\n",
    "            quantum_instance=QuantumInstance(backend=Aer.get_backend(\"statevector_simulator\")),)\n",
    "\n",
    "calc = GroundStateEigensolver(qubit_converter, vqe_solver)\n",
    "res_UCCSD_active = calc.solve(problem)\n",
    "\n",
    "lih_uccsd_energy_active= res_UCCSD_active.total_energies[0]\n",
    "print('LiH UCCSD energy with active space = ', lih_uccsd_energy_active)"
   ]
  },
  {
   "cell_type": "markdown",
   "id": "e6181023",
   "metadata": {},
   "source": [
    "Compare the results of all LiH simulations. Investigate the performance of the problem size reduction. "
   ]
  },
  {
   "cell_type": "code",
   "execution_count": null,
   "id": "612b79ee",
   "metadata": {},
   "outputs": [],
   "source": [
    "print('LiH HF energy = ', lih_hf_energy)\n",
    "print('LiH UCCSD energy with active space = ', lih_uccsd_energy_active)\n",
    "print('LiH PUCCD energy = ', lih_puccd_energy)\n",
    "print('LiH UCCSD energy = ', lih_uccsd_energy)\n",
    "print('LiH exact energy:', target_energy)"
   ]
  },
  {
   "cell_type": "code",
   "execution_count": null,
   "id": "5c97d252",
   "metadata": {},
   "outputs": [],
   "source": [
    "import qiskit.tools.jupyter\n",
    "%qiskit_version_table\n",
    "%qiskit_copyright"
   ]
  },
  {
   "cell_type": "code",
   "execution_count": null,
   "id": "2e6f3e88",
   "metadata": {},
   "outputs": [],
   "source": []
  }
 ],
 "metadata": {
  "kernelspec": {
   "display_name": "Python 3 (ipykernel)",
   "language": "python",
   "name": "python3"
  },
  "language_info": {
   "codemirror_mode": {
    "name": "ipython",
    "version": 3
   },
   "file_extension": ".py",
   "mimetype": "text/x-python",
   "name": "python",
   "nbconvert_exporter": "python",
   "pygments_lexer": "ipython3",
   "version": "3.8.8"
  }
 },
 "nbformat": 4,
 "nbformat_minor": 5
}
